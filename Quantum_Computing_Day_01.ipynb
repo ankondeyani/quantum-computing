{
  "nbformat": 4,
  "nbformat_minor": 0,
  "metadata": {
    "colab": {
      "provenance": [],
      "authorship_tag": "ABX9TyMhBsVkzz1Mzo2bKA2WHLk/"
    },
    "kernelspec": {
      "name": "python3",
      "display_name": "Python 3"
    },
    "language_info": {
      "name": "python"
    }
  },
  "cells": [
    {
      "cell_type": "markdown",
      "source": [
        "#Lesson 1\n",
        "\n",
        "I've learned how to construct Quantum Circuits, and how to apply basic gates to it. Now I will solve some exercises given by ChatGPT!"
      ],
      "metadata": {
        "id": "Q0SraEkaCIg-"
      }
    },
    {
      "cell_type": "markdown",
      "source": [
        "## 1️⃣ Create a Superposition Circuit"
      ],
      "metadata": {
        "id": "4m-WrRehCft4"
      }
    },
    {
      "cell_type": "code",
      "source": [
        "!pip install qiskit qiskit_aer"
      ],
      "metadata": {
        "colab": {
          "base_uri": "https://localhost:8080/"
        },
        "collapsed": true,
        "id": "qviNtuWvCfLk",
        "outputId": "6cd2695e-3c0a-4705-862a-e3727cf171bf"
      },
      "execution_count": 1,
      "outputs": [
        {
          "output_type": "stream",
          "name": "stdout",
          "text": [
            "Collecting qiskit\n",
            "  Downloading qiskit-1.4.2-cp39-abi3-manylinux_2_17_x86_64.manylinux2014_x86_64.whl.metadata (12 kB)\n",
            "Collecting qiskit_aer\n",
            "  Downloading qiskit_aer-0.17.0-cp311-cp311-manylinux_2_17_x86_64.manylinux2014_x86_64.whl.metadata (8.2 kB)\n",
            "Collecting rustworkx>=0.15.0 (from qiskit)\n",
            "  Downloading rustworkx-0.16.0-cp39-abi3-manylinux_2_17_x86_64.manylinux2014_x86_64.whl.metadata (10 kB)\n",
            "Requirement already satisfied: numpy<3,>=1.17 in /usr/local/lib/python3.11/dist-packages (from qiskit) (2.0.2)\n",
            "Requirement already satisfied: scipy>=1.5 in /usr/local/lib/python3.11/dist-packages (from qiskit) (1.14.1)\n",
            "Requirement already satisfied: sympy>=1.3 in /usr/local/lib/python3.11/dist-packages (from qiskit) (1.13.1)\n",
            "Collecting dill>=0.3 (from qiskit)\n",
            "  Downloading dill-0.3.9-py3-none-any.whl.metadata (10 kB)\n",
            "Requirement already satisfied: python-dateutil>=2.8.0 in /usr/local/lib/python3.11/dist-packages (from qiskit) (2.8.2)\n",
            "Collecting stevedore>=3.0.0 (from qiskit)\n",
            "  Downloading stevedore-5.4.1-py3-none-any.whl.metadata (2.3 kB)\n",
            "Requirement already satisfied: typing-extensions in /usr/local/lib/python3.11/dist-packages (from qiskit) (4.12.2)\n",
            "Collecting symengine<0.14,>=0.11 (from qiskit)\n",
            "  Downloading symengine-0.13.0-cp311-cp311-manylinux_2_17_x86_64.manylinux2014_x86_64.whl.metadata (1.2 kB)\n",
            "Requirement already satisfied: psutil>=5 in /usr/local/lib/python3.11/dist-packages (from qiskit_aer) (5.9.5)\n",
            "Requirement already satisfied: six>=1.5 in /usr/local/lib/python3.11/dist-packages (from python-dateutil>=2.8.0->qiskit) (1.17.0)\n",
            "Collecting pbr>=2.0.0 (from stevedore>=3.0.0->qiskit)\n",
            "  Downloading pbr-6.1.1-py2.py3-none-any.whl.metadata (3.4 kB)\n",
            "Requirement already satisfied: mpmath<1.4,>=1.1.0 in /usr/local/lib/python3.11/dist-packages (from sympy>=1.3->qiskit) (1.3.0)\n",
            "Requirement already satisfied: setuptools in /usr/local/lib/python3.11/dist-packages (from pbr>=2.0.0->stevedore>=3.0.0->qiskit) (75.1.0)\n",
            "Downloading qiskit-1.4.2-cp39-abi3-manylinux_2_17_x86_64.manylinux2014_x86_64.whl (6.8 MB)\n",
            "\u001b[2K   \u001b[90m━━━━━━━━━━━━━━━━━━━━━━━━━━━━━━━━━━━━━━━━\u001b[0m \u001b[32m6.8/6.8 MB\u001b[0m \u001b[31m65.9 MB/s\u001b[0m eta \u001b[36m0:00:00\u001b[0m\n",
            "\u001b[?25hDownloading qiskit_aer-0.17.0-cp311-cp311-manylinux_2_17_x86_64.manylinux2014_x86_64.whl (12.4 MB)\n",
            "\u001b[2K   \u001b[90m━━━━━━━━━━━━━━━━━━━━━━━━━━━━━━━━━━━━━━━━\u001b[0m \u001b[32m12.4/12.4 MB\u001b[0m \u001b[31m82.3 MB/s\u001b[0m eta \u001b[36m0:00:00\u001b[0m\n",
            "\u001b[?25hDownloading dill-0.3.9-py3-none-any.whl (119 kB)\n",
            "\u001b[2K   \u001b[90m━━━━━━━━━━━━━━━━━━━━━━━━━━━━━━━━━━━━━━━━\u001b[0m \u001b[32m119.4/119.4 kB\u001b[0m \u001b[31m6.8 MB/s\u001b[0m eta \u001b[36m0:00:00\u001b[0m\n",
            "\u001b[?25hDownloading rustworkx-0.16.0-cp39-abi3-manylinux_2_17_x86_64.manylinux2014_x86_64.whl (2.1 MB)\n",
            "\u001b[2K   \u001b[90m━━━━━━━━━━━━━━━━━━━━━━━━━━━━━━━━━━━━━━━━\u001b[0m \u001b[32m2.1/2.1 MB\u001b[0m \u001b[31m57.5 MB/s\u001b[0m eta \u001b[36m0:00:00\u001b[0m\n",
            "\u001b[?25hDownloading stevedore-5.4.1-py3-none-any.whl (49 kB)\n",
            "\u001b[2K   \u001b[90m━━━━━━━━━━━━━━━━━━━━━━━━━━━━━━━━━━━━━━━━\u001b[0m \u001b[32m49.5/49.5 kB\u001b[0m \u001b[31m3.1 MB/s\u001b[0m eta \u001b[36m0:00:00\u001b[0m\n",
            "\u001b[?25hDownloading symengine-0.13.0-cp311-cp311-manylinux_2_17_x86_64.manylinux2014_x86_64.whl (49.7 MB)\n",
            "\u001b[2K   \u001b[90m━━━━━━━━━━━━━━━━━━━━━━━━━━━━━━━━━━━━━━━━\u001b[0m \u001b[32m49.7/49.7 MB\u001b[0m \u001b[31m12.0 MB/s\u001b[0m eta \u001b[36m0:00:00\u001b[0m\n",
            "\u001b[?25hDownloading pbr-6.1.1-py2.py3-none-any.whl (108 kB)\n",
            "\u001b[2K   \u001b[90m━━━━━━━━━━━━━━━━━━━━━━━━━━━━━━━━━━━━━━━━\u001b[0m \u001b[32m109.0/109.0 kB\u001b[0m \u001b[31m7.6 MB/s\u001b[0m eta \u001b[36m0:00:00\u001b[0m\n",
            "\u001b[?25hInstalling collected packages: symengine, rustworkx, pbr, dill, stevedore, qiskit, qiskit_aer\n",
            "Successfully installed dill-0.3.9 pbr-6.1.1 qiskit-1.4.2 qiskit_aer-0.17.0 rustworkx-0.16.0 stevedore-5.4.1 symengine-0.13.0\n"
          ]
        }
      ]
    },
    {
      "cell_type": "code",
      "source": [
        "from qiskit import QuantumCircuit, transpile\n",
        "from qiskit_aer import Aer"
      ],
      "metadata": {
        "id": "WHSzGeGbCHcE"
      },
      "execution_count": 2,
      "outputs": []
    },
    {
      "cell_type": "code",
      "source": [
        "qc_1= QuantumCircuit(1,1)\n",
        "qc_1.h(0)\n",
        "qc_1.measure(0,0)\n",
        "print(qc_1.draw())"
      ],
      "metadata": {
        "colab": {
          "base_uri": "https://localhost:8080/"
        },
        "id": "Zt-uBxuMDlD4",
        "outputId": "153314a9-79bf-4e4c-bf9a-68f47dd3a111"
      },
      "execution_count": 4,
      "outputs": [
        {
          "output_type": "stream",
          "name": "stdout",
          "text": [
            "     ┌───┐┌─┐\n",
            "  q: ┤ H ├┤M├\n",
            "     └───┘└╥┘\n",
            "c: 1/══════╩═\n",
            "           0 \n"
          ]
        }
      ]
    },
    {
      "cell_type": "code",
      "source": [
        "sim = Aer.get_backend(\"aer_simulator\")\n",
        "comp_qc = transpile (qc_1, sim)\n",
        "job = sim.run(comp_qc, shots=1000)\n",
        "result = job.result()\n",
        "counts = result.get_counts()\n",
        "print(counts)"
      ],
      "metadata": {
        "colab": {
          "base_uri": "https://localhost:8080/"
        },
        "id": "ctdoLsREEIoI",
        "outputId": "5240782a-2696-4c99-da32-4aef5bdf0687"
      },
      "execution_count": 14,
      "outputs": [
        {
          "output_type": "stream",
          "name": "stdout",
          "text": [
            "{'0': 516, '1': 484}\n"
          ]
        }
      ]
    },
    {
      "cell_type": "markdown",
      "source": [
        "##2️⃣ Double Superposition"
      ],
      "metadata": {
        "id": "HuFklCXTEfri"
      }
    },
    {
      "cell_type": "code",
      "source": [
        "qc_2 = QuantumCircuit(2,2)\n",
        "qc_2.h([0,1])\n",
        "qc_2.measure([0,1], [0,1])\n",
        "print(qc_2.draw())"
      ],
      "metadata": {
        "colab": {
          "base_uri": "https://localhost:8080/"
        },
        "id": "lwm_YLpfEknX",
        "outputId": "99757295-6138-4694-f90c-c35101ca7eaa"
      },
      "execution_count": 20,
      "outputs": [
        {
          "output_type": "stream",
          "name": "stdout",
          "text": [
            "     ┌───┐┌─┐   \n",
            "q_0: ┤ H ├┤M├───\n",
            "     ├───┤└╥┘┌─┐\n",
            "q_1: ┤ H ├─╫─┤M├\n",
            "     └───┘ ║ └╥┘\n",
            "c: 2/══════╩══╩═\n",
            "           0  1 \n"
          ]
        }
      ]
    },
    {
      "cell_type": "code",
      "source": [
        "comp_qc2= transpile(qc_2, sim)\n",
        "job2 = sim.run(comp_qc2, shots=1000)\n",
        "result2 = job2.result()\n",
        "counts2 = result2.get_counts()\n",
        "print(counts2)"
      ],
      "metadata": {
        "colab": {
          "base_uri": "https://localhost:8080/"
        },
        "id": "HQmy1RroE7NN",
        "outputId": "14b1c776-d153-4601-e6e6-78eb13ca36d2"
      },
      "execution_count": 21,
      "outputs": [
        {
          "output_type": "stream",
          "name": "stdout",
          "text": [
            "{'01': 246, '11': 250, '10': 251, '00': 253}\n"
          ]
        }
      ]
    },
    {
      "cell_type": "markdown",
      "source": [
        "## 3️⃣ Entanglement Confirmation (Bell State Check)"
      ],
      "metadata": {
        "id": "35Piar4aFutO"
      }
    },
    {
      "cell_type": "code",
      "source": [
        "qc_3 = QuantumCircuit(2,2)\n",
        "qc_3.h(0)\n",
        "qc_3.cx(0,1)\n",
        "qc_3.measure([0,1],[0,1])\n",
        "print(qc_3.draw())"
      ],
      "metadata": {
        "colab": {
          "base_uri": "https://localhost:8080/"
        },
        "id": "7fYjuyQKFoNZ",
        "outputId": "87cd325f-7145-4775-84ba-9d86bff251f6"
      },
      "execution_count": 23,
      "outputs": [
        {
          "output_type": "stream",
          "name": "stdout",
          "text": [
            "     ┌───┐     ┌─┐   \n",
            "q_0: ┤ H ├──■──┤M├───\n",
            "     └───┘┌─┴─┐└╥┘┌─┐\n",
            "q_1: ─────┤ X ├─╫─┤M├\n",
            "          └───┘ ║ └╥┘\n",
            "c: 2/═══════════╩══╩═\n",
            "                0  1 \n"
          ]
        }
      ]
    },
    {
      "cell_type": "code",
      "source": [
        "comp_q3 = transpile(qc_3, sim)\n",
        "job3 = sim.run(comp_q3, shots=1000)\n",
        "result3 = job3.result()\n",
        "counts3 = result3.get_counts()\n",
        "print(counts3)"
      ],
      "metadata": {
        "colab": {
          "base_uri": "https://localhost:8080/"
        },
        "id": "60amQ9SeGGZB",
        "outputId": "205b6236-d171-4947-96c3-c9a825544ce4"
      },
      "execution_count": 29,
      "outputs": [
        {
          "output_type": "stream",
          "name": "stdout",
          "text": [
            "{'00': 480, '11': 520}\n"
          ]
        }
      ]
    },
    {
      "cell_type": "markdown",
      "source": [
        "##4️⃣ Flipping a Bell State\n"
      ],
      "metadata": {
        "id": "awMgT3o2GMNz"
      }
    },
    {
      "cell_type": "code",
      "source": [
        "qc_4 = QuantumCircuit (2,2)\n",
        "qc_4.h(0)\n",
        "qc_4.cx(0,1)\n",
        "qc_4.x(1)\n",
        "qc_4.measure([0,1],[0,1])\n",
        "print(qc_4.draw())"
      ],
      "metadata": {
        "colab": {
          "base_uri": "https://localhost:8080/"
        },
        "id": "FdoYMjS4GVQ4",
        "outputId": "e10c550d-baf3-4349-e3da-d70b13d5ea98"
      },
      "execution_count": 33,
      "outputs": [
        {
          "output_type": "stream",
          "name": "stdout",
          "text": [
            "     ┌───┐          ┌─┐   \n",
            "q_0: ┤ H ├──■───────┤M├───\n",
            "     └───┘┌─┴─┐┌───┐└╥┘┌─┐\n",
            "q_1: ─────┤ X ├┤ X ├─╫─┤M├\n",
            "          └───┘└───┘ ║ └╥┘\n",
            "c: 2/════════════════╩══╩═\n",
            "                     0  1 \n"
          ]
        }
      ]
    },
    {
      "cell_type": "code",
      "source": [
        "comp_q4 = transpile(qc_4, sim)\n",
        "job4 = sim.run(comp_q4, shots=1000)\n",
        "result4 = job4.result()\n",
        "counts4 = result4.get_counts()\n",
        "print(counts4)"
      ],
      "metadata": {
        "colab": {
          "base_uri": "https://localhost:8080/"
        },
        "id": "xJIaMuiSGdyG",
        "outputId": "df702478-8f76-4926-b2d4-c400e31465c3"
      },
      "execution_count": 36,
      "outputs": [
        {
          "output_type": "stream",
          "name": "stdout",
          "text": [
            "{'01': 484, '10': 516}\n"
          ]
        }
      ]
    },
    {
      "cell_type": "markdown",
      "source": [
        "## 5️⃣ Custom Measurement Basis (Z to X Basis)"
      ],
      "metadata": {
        "id": "IKwDJrdCHrAj"
      }
    },
    {
      "cell_type": "code",
      "source": [
        "qc_5 = QuantumCircuit (1,1)\n",
        "qc_5.h(0)\n",
        "qc_5.h(0)\n",
        "qc_5.measure(0,0)\n",
        "print(qc_5.draw())"
      ],
      "metadata": {
        "colab": {
          "base_uri": "https://localhost:8080/"
        },
        "id": "sMY0d9BPHwe7",
        "outputId": "f405ac34-4bf9-4672-f807-2a8db47fdba4"
      },
      "execution_count": 43,
      "outputs": [
        {
          "output_type": "stream",
          "name": "stdout",
          "text": [
            "     ┌───┐┌───┐┌─┐\n",
            "  q: ┤ H ├┤ H ├┤M├\n",
            "     └───┘└───┘└╥┘\n",
            "c: 1/═══════════╩═\n",
            "                0 \n"
          ]
        }
      ]
    },
    {
      "cell_type": "code",
      "source": [
        "comp_q5 = transpile(qc_5, sim)\n",
        "job5 = sim.run(comp_q5, shots=1000)\n",
        "result5 = job5.result()\n",
        "counts5 = result5.get_counts()\n",
        "print(counts5)"
      ],
      "metadata": {
        "colab": {
          "base_uri": "https://localhost:8080/"
        },
        "id": "pzOwERELH25f",
        "outputId": "09e3e6fe-1b54-412c-e25e-fb2b326924f1"
      },
      "execution_count": 44,
      "outputs": [
        {
          "output_type": "stream",
          "name": "stdout",
          "text": [
            "{'0': 1000}\n"
          ]
        }
      ]
    },
    {
      "cell_type": "markdown",
      "source": [
        "#Lesson 2\n",
        "I will start medium exercises on the same lesson now! Here are those:"
      ],
      "metadata": {
        "id": "5WSKfZo_IFHb"
      }
    },
    {
      "cell_type": "markdown",
      "source": [
        "## Medium Exercise 3: Applying a Hadamard to Both Qubits\n",
        "Create a circuit where both qubits are put into a superposition by applying a Hadamard gate to each qubit. Then apply a CNOT gate between them. What should be the state of the system after applying these gates? Measure the qubits to verify."
      ],
      "metadata": {
        "id": "4_POi3RYIOET"
      }
    },
    {
      "cell_type": "code",
      "source": [
        "qc_6 = QuantumCircuit(2,2)\n",
        "qc_6.h(0)\n",
        "qc_6.h(1)\n",
        "qc_6.cx(0,1)\n",
        "qc_6.measure([0,1],[0,1])\n",
        "print(qc_6.draw())"
      ],
      "metadata": {
        "colab": {
          "base_uri": "https://localhost:8080/"
        },
        "id": "-h-pIx-hIvjc",
        "outputId": "c9c831a0-88ea-4c88-be57-dcd2b1464741"
      },
      "execution_count": 45,
      "outputs": [
        {
          "output_type": "stream",
          "name": "stdout",
          "text": [
            "     ┌───┐     ┌─┐   \n",
            "q_0: ┤ H ├──■──┤M├───\n",
            "     ├───┤┌─┴─┐└╥┘┌─┐\n",
            "q_1: ┤ H ├┤ X ├─╫─┤M├\n",
            "     └───┘└───┘ ║ └╥┘\n",
            "c: 2/═══════════╩══╩═\n",
            "                0  1 \n"
          ]
        }
      ]
    },
    {
      "cell_type": "code",
      "source": [
        "comp_q6 = transpile(qc_6, sim)\n",
        "job6 = sim.run(comp_q6, shots=1000)\n",
        "result6 = job6.result()\n",
        "counts6 = result6.get_counts()\n",
        "print(counts6)"
      ],
      "metadata": {
        "colab": {
          "base_uri": "https://localhost:8080/"
        },
        "id": "IpW3Kh1sI5Aj",
        "outputId": "433aa791-0f94-4208-fe83-9469075b8f61"
      },
      "execution_count": 48,
      "outputs": [
        {
          "output_type": "stream",
          "name": "stdout",
          "text": [
            "{'01': 260, '11': 227, '10': 266, '00': 247}\n"
          ]
        }
      ]
    },
    {
      "cell_type": "markdown",
      "source": [
        "##Medium Exercise 4: Multiple CNOT Gates\n",
        "Build a quantum circuit with 3 qubits. Start by applying a Hadamard gate to qubit 0, then create entanglement using two CNOT gates:\n",
        "\n",
        "First CNOT: Apply CNOT (control = qubit 0, target = qubit 1).\n",
        "\n",
        "Second CNOT: Apply CNOT (control = qubit 1, target = qubit 2). After that, measure all three qubits. What is the expected output, and how would the system look if you applied a few more gates?"
      ],
      "metadata": {
        "id": "GPZzUn3YJBjs"
      }
    },
    {
      "cell_type": "code",
      "source": [
        "qc_7 = QuantumCircuit(3,3)\n",
        "qc_7.h(0)\n",
        "qc_7.x(0)\n",
        "qc_7.cx(0,1)\n",
        "qc_7.x(1)\n",
        "qc_7.cx(1,2)\n",
        "qc_7.measure([0,1,2],[0,1,2])\n",
        "print(qc_7.draw())"
      ],
      "metadata": {
        "colab": {
          "base_uri": "https://localhost:8080/"
        },
        "id": "mu1ntueIJFV5",
        "outputId": "796faeb7-cc9d-4a3b-f530-7917114cd0dc"
      },
      "execution_count": 57,
      "outputs": [
        {
          "output_type": "stream",
          "name": "stdout",
          "text": [
            "     ┌───┐┌───┐          ┌─┐           \n",
            "q_0: ┤ H ├┤ X ├──■───────┤M├───────────\n",
            "     └───┘└───┘┌─┴─┐┌───┐└╥┘     ┌─┐   \n",
            "q_1: ──────────┤ X ├┤ X ├─╫───■──┤M├───\n",
            "               └───┘└───┘ ║ ┌─┴─┐└╥┘┌─┐\n",
            "q_2: ─────────────────────╫─┤ X ├─╫─┤M├\n",
            "                          ║ └───┘ ║ └╥┘\n",
            "c: 3/═════════════════════╩═══════╩══╩═\n",
            "                          0       1  2 \n"
          ]
        }
      ]
    },
    {
      "cell_type": "code",
      "source": [
        "comp_q7 = transpile(qc_7, sim)\n",
        "job7 = sim.run(comp_q7, shots=1000)\n",
        "result7 = job7.result()\n",
        "counts7 = result7.get_counts()\n",
        "print(counts7)"
      ],
      "metadata": {
        "colab": {
          "base_uri": "https://localhost:8080/"
        },
        "id": "rL9zvt32JM-R",
        "outputId": "d5f7bb28-e564-4cce-e15d-1af26af8d931"
      },
      "execution_count": 58,
      "outputs": [
        {
          "output_type": "stream",
          "name": "stdout",
          "text": [
            "{'110': 499, '001': 501}\n"
          ]
        }
      ]
    },
    {
      "cell_type": "markdown",
      "source": [
        "##Medium Exercise 5: Controlled Operations\n",
        "Create a circuit with two qubits. Apply a Hadamard gate to qubit 0 to create a superposition. Then apply a CNOT gate (control = qubit 0, target = qubit 1). Now apply a controlled-Z (CZ) gate between qubit 0 and qubit 1. Measure the qubits at the end. What do you expect as the output? Compare this to the Bell state."
      ],
      "metadata": {
        "id": "fKfkoH25Jp4G"
      }
    },
    {
      "cell_type": "code",
      "source": [
        "qc_8 = QuantumCircuit(2,2)\n",
        "qc_8.h(0)\n",
        "qc_8.cx(0,1)\n",
        "qc_8.x(1)\n",
        "qc_8.cz(0,1)\n",
        "qc_8.measure([0,1],[0,1])\n",
        "print(qc_8.draw())"
      ],
      "metadata": {
        "colab": {
          "base_uri": "https://localhost:8080/"
        },
        "id": "cUhk1L8uJrNK",
        "outputId": "d6a78b17-f31a-45c6-845d-88817a8c764c"
      },
      "execution_count": 69,
      "outputs": [
        {
          "output_type": "stream",
          "name": "stdout",
          "text": [
            "     ┌───┐             ┌─┐   \n",
            "q_0: ┤ H ├──■────────■─┤M├───\n",
            "     └───┘┌─┴─┐┌───┐ │ └╥┘┌─┐\n",
            "q_1: ─────┤ X ├┤ X ├─■──╫─┤M├\n",
            "          └───┘└───┘    ║ └╥┘\n",
            "c: 2/═══════════════════╩══╩═\n",
            "                        0  1 \n"
          ]
        }
      ]
    },
    {
      "cell_type": "code",
      "source": [
        "comp_q8 = transpile(qc_8, sim)\n",
        "job8 = sim.run(comp_q8, shots=1000)\n",
        "result8 = job8.result()\n",
        "counts8 = result8.get_counts()\n",
        "print(counts8)"
      ],
      "metadata": {
        "colab": {
          "base_uri": "https://localhost:8080/"
        },
        "id": "uQP7btGgJ0WN",
        "outputId": "735c91e4-40c6-433d-8997-e265a23721b6"
      },
      "execution_count": 73,
      "outputs": [
        {
          "output_type": "stream",
          "name": "stdout",
          "text": [
            "{'10': 507, '01': 493}\n"
          ]
        }
      ]
    },
    {
      "cell_type": "markdown",
      "source": [
        "##Hard Exercise 1: Quantum Teleportation Protocol\n",
        "Implement the Quantum Teleportation Protocol using entanglement and classical communication. The steps involved are:\n",
        "\n",
        "Create an entangled pair (Bell state) using two qubits (you can use the same method as before: Hadamard and CNOT).\n",
        "\n",
        "Prepare a third qubit that you want to teleport.\n",
        "\n",
        "Apply a CNOT gate with the prepared qubit as control and the first qubit (part of the entangled pair) as the target.\n",
        "\n",
        "Apply a Hadamard gate to the prepared qubit.\n",
        "\n",
        "Measure both the first and prepared qubits.\n",
        "\n",
        "Based on the measurement outcomes, apply the appropriate classical corrections (X and/or Z gates) to the second qubit (the one that was entangled).\n",
        "\n",
        "Challenge: Implement this, simulate the teleportation, and verify that the final state of the second qubit is the same as the initial state of the third qubit.\n"
      ],
      "metadata": {
        "id": "0C4cD8I9KO2w"
      }
    },
    {
      "cell_type": "code",
      "source": [
        "qc_8 = QuantumCircuit(3, 2)\n",
        "qc_8.h(0)\n",
        "qc_8.cx(0, 1)\n",
        "qc_8.cx(2, 0)\n",
        "qc_8.h(2)\n",
        "qc_8.cz(2, 1)\n",
        "qc_8.h(2)\n",
        "qc_8.measure([1, 2], [0, 1])\n",
        "print(qc_8.draw())"
      ],
      "metadata": {
        "colab": {
          "base_uri": "https://localhost:8080/"
        },
        "id": "YyA4ZyxyKQE1",
        "outputId": "f585fa2a-8cdb-46e2-a45f-ce13f7b34881"
      },
      "execution_count": 137,
      "outputs": [
        {
          "output_type": "stream",
          "name": "stdout",
          "text": [
            "     ┌───┐     ┌───┐                   \n",
            "q_0: ┤ H ├──■──┤ X ├───────────────────\n",
            "     └───┘┌─┴─┐└─┬─┘             ┌─┐   \n",
            "q_1: ─────┤ X ├──┼────────■──────┤M├───\n",
            "          └───┘  │  ┌───┐ │ ┌───┐└╥┘┌─┐\n",
            "q_2: ────────────■──┤ H ├─■─┤ H ├─╫─┤M├\n",
            "                    └───┘   └───┘ ║ └╥┘\n",
            "c: 2/═════════════════════════════╩══╩═\n",
            "                                  0  1 \n"
          ]
        }
      ]
    },
    {
      "cell_type": "code",
      "source": [
        "comp_q8 = transpile(qc_8, sim)\n",
        "job8 = sim.run(comp_q8, shots=1000)\n",
        "result8 = job8.result()\n",
        "counts8 = result8.get_counts()\n",
        "print(counts8)"
      ],
      "metadata": {
        "colab": {
          "base_uri": "https://localhost:8080/"
        },
        "id": "hPCl2GyALT8n",
        "outputId": "33ff8491-fe2e-4688-a30d-e5465e8e4376"
      },
      "execution_count": 138,
      "outputs": [
        {
          "output_type": "stream",
          "name": "stdout",
          "text": [
            "{'11': 493, '00': 507}\n"
          ]
        }
      ]
    }
  ]
}